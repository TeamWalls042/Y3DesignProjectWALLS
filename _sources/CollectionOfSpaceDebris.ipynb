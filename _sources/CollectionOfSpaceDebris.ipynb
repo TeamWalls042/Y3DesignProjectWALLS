{
 "cells": [
  {
   "cell_type": "markdown",
   "metadata": {},
   "source": [
    "# Collection of Space Debris"
   ]
  },
  {
   "cell_type": "markdown",
   "metadata": {},
   "source": [
    "_Prepared by:_ [Mitansh Choksi](https://github.com/mitanshc)"
   ]
  }
 ],
 "metadata": {
  "language_info": {
   "name": "python"
  }
 },
 "nbformat": 4,
 "nbformat_minor": 2
}
