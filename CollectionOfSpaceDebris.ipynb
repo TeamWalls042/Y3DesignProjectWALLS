{
 "cells": [
  {
   "cell_type": "markdown",
   "metadata": {},
   "source": [
    "# Collection of Space Debris"
   ]
  },
  {
   "cell_type": "markdown",
   "metadata": {},
   "source": [
    "_Prepared by:_ [Mitansh Choksi](https://github.com/mitanshc)"
   ]
  },
  {
   "cell_type": "markdown",
   "metadata": {},
   "source": [
    "This block of text is to test the merging capabilites"
   ]
  },
  {
   "cell_type": "markdown",
   "metadata": {},
   "source": [
    "This block of text has been written on the 4th Feb 2025. To prove this the secret word Noah has given me: \"tilde\""
   ]
  }
 ],
 "metadata": {
  "language_info": {
   "name": "python"
  }
 },
 "nbformat": 4,
 "nbformat_minor": 2
}
